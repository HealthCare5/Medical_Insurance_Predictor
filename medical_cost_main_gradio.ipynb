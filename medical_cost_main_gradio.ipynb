{
 "cells": [
  {
   "cell_type": "code",
   "execution_count": 1,
   "id": "6f98d19b-fbe9-41da-991c-31c3927fdc5e",
   "metadata": {},
   "outputs": [],
   "source": [
    "#importing the libraries\n",
    "import numpy as np\n",
    "import pandas as pd\n",
    "import matplotlib.pyplot as plt\n",
    "import seaborn as sns\n",
    "df = pd.read_csv('insurance.csv')\n",
    "#changing categorical variables to numerical\n",
    "df['sex'] = df['sex'].map({'male':0,'female':1})\n",
    "df['smoker'] = df['smoker'].map({'yes':1,'no':0})\n",
    "df['region'] = df['region'].map({'southwest':0,'southeast':1,'northwest':2,'northeast':3})"
   ]
  },
  {
   "cell_type": "code",
   "execution_count": 2,
   "id": "75b32917-c92f-437f-8263-a2079c7579cf",
   "metadata": {},
   "outputs": [],
   "source": [
    "#Train Test Split\n",
    "from sklearn.model_selection import train_test_split\n",
    "x_train, x_test, y_train, y_test = train_test_split(df.drop('charges',axis=1), df['charges'], test_size=0.2, random_state=42)\n"
   ]
  },
  {
   "cell_type": "code",
   "execution_count": 3,
   "id": "38890e7d-0957-4b2b-870d-b7d2f56b068d",
   "metadata": {},
   "outputs": [
    {
     "data": {
      "text/html": [
       "<style>#sk-container-id-1 {color: black;}#sk-container-id-1 pre{padding: 0;}#sk-container-id-1 div.sk-toggleable {background-color: white;}#sk-container-id-1 label.sk-toggleable__label {cursor: pointer;display: block;width: 100%;margin-bottom: 0;padding: 0.3em;box-sizing: border-box;text-align: center;}#sk-container-id-1 label.sk-toggleable__label-arrow:before {content: \"▸\";float: left;margin-right: 0.25em;color: #696969;}#sk-container-id-1 label.sk-toggleable__label-arrow:hover:before {color: black;}#sk-container-id-1 div.sk-estimator:hover label.sk-toggleable__label-arrow:before {color: black;}#sk-container-id-1 div.sk-toggleable__content {max-height: 0;max-width: 0;overflow: hidden;text-align: left;background-color: #f0f8ff;}#sk-container-id-1 div.sk-toggleable__content pre {margin: 0.2em;color: black;border-radius: 0.25em;background-color: #f0f8ff;}#sk-container-id-1 input.sk-toggleable__control:checked~div.sk-toggleable__content {max-height: 200px;max-width: 100%;overflow: auto;}#sk-container-id-1 input.sk-toggleable__control:checked~label.sk-toggleable__label-arrow:before {content: \"▾\";}#sk-container-id-1 div.sk-estimator input.sk-toggleable__control:checked~label.sk-toggleable__label {background-color: #d4ebff;}#sk-container-id-1 div.sk-label input.sk-toggleable__control:checked~label.sk-toggleable__label {background-color: #d4ebff;}#sk-container-id-1 input.sk-hidden--visually {border: 0;clip: rect(1px 1px 1px 1px);clip: rect(1px, 1px, 1px, 1px);height: 1px;margin: -1px;overflow: hidden;padding: 0;position: absolute;width: 1px;}#sk-container-id-1 div.sk-estimator {font-family: monospace;background-color: #f0f8ff;border: 1px dotted black;border-radius: 0.25em;box-sizing: border-box;margin-bottom: 0.5em;}#sk-container-id-1 div.sk-estimator:hover {background-color: #d4ebff;}#sk-container-id-1 div.sk-parallel-item::after {content: \"\";width: 100%;border-bottom: 1px solid gray;flex-grow: 1;}#sk-container-id-1 div.sk-label:hover label.sk-toggleable__label {background-color: #d4ebff;}#sk-container-id-1 div.sk-serial::before {content: \"\";position: absolute;border-left: 1px solid gray;box-sizing: border-box;top: 0;bottom: 0;left: 50%;z-index: 0;}#sk-container-id-1 div.sk-serial {display: flex;flex-direction: column;align-items: center;background-color: white;padding-right: 0.2em;padding-left: 0.2em;position: relative;}#sk-container-id-1 div.sk-item {position: relative;z-index: 1;}#sk-container-id-1 div.sk-parallel {display: flex;align-items: stretch;justify-content: center;background-color: white;position: relative;}#sk-container-id-1 div.sk-item::before, #sk-container-id-1 div.sk-parallel-item::before {content: \"\";position: absolute;border-left: 1px solid gray;box-sizing: border-box;top: 0;bottom: 0;left: 50%;z-index: -1;}#sk-container-id-1 div.sk-parallel-item {display: flex;flex-direction: column;z-index: 1;position: relative;background-color: white;}#sk-container-id-1 div.sk-parallel-item:first-child::after {align-self: flex-end;width: 50%;}#sk-container-id-1 div.sk-parallel-item:last-child::after {align-self: flex-start;width: 50%;}#sk-container-id-1 div.sk-parallel-item:only-child::after {width: 0;}#sk-container-id-1 div.sk-dashed-wrapped {border: 1px dashed gray;margin: 0 0.4em 0.5em 0.4em;box-sizing: border-box;padding-bottom: 0.4em;background-color: white;}#sk-container-id-1 div.sk-label label {font-family: monospace;font-weight: bold;display: inline-block;line-height: 1.2em;}#sk-container-id-1 div.sk-label-container {text-align: center;}#sk-container-id-1 div.sk-container {/* jupyter's `normalize.less` sets `[hidden] { display: none; }` but bootstrap.min.css set `[hidden] { display: none !important; }` so we also need the `!important` here to be able to override the default hidden behavior on the sphinx rendered scikit-learn.org. See: https://github.com/scikit-learn/scikit-learn/issues/21755 */display: inline-block !important;position: relative;}#sk-container-id-1 div.sk-text-repr-fallback {display: none;}</style><div id=\"sk-container-id-1\" class=\"sk-top-container\"><div class=\"sk-text-repr-fallback\"><pre>RandomForestRegressor()</pre><b>In a Jupyter environment, please rerun this cell to show the HTML representation or trust the notebook. <br />On GitHub, the HTML representation is unable to render, please try loading this page with nbviewer.org.</b></div><div class=\"sk-container\" hidden><div class=\"sk-item\"><div class=\"sk-estimator sk-toggleable\"><input class=\"sk-toggleable__control sk-hidden--visually\" id=\"sk-estimator-id-1\" type=\"checkbox\" checked><label for=\"sk-estimator-id-1\" class=\"sk-toggleable__label sk-toggleable__label-arrow\">RandomForestRegressor</label><div class=\"sk-toggleable__content\"><pre>RandomForestRegressor()</pre></div></div></div></div></div>"
      ],
      "text/plain": [
       "RandomForestRegressor()"
      ]
     },
     "execution_count": 3,
     "metadata": {},
     "output_type": "execute_result"
    }
   ],
   "source": [
    "#random forest regressor\n",
    "from sklearn.ensemble import RandomForestRegressor\n",
    "rf = RandomForestRegressor()\n",
    "#model training\n",
    "rf.fit(x_train,y_train)\n",
    "#model accuracy\n",
    "# dtree.score(x_train,y_train)"
   ]
  },
  {
   "cell_type": "code",
   "execution_count": 4,
   "id": "269af35c-7b3e-4317-921d-f80a368fdff5",
   "metadata": {},
   "outputs": [],
   "source": [
    "def func(a, b, c, d, e, f):\n",
    "    \n",
    "    \n",
    "    x_test = [[a, b, c, d, e, f]]\n",
    "    result = rf.predict(x_test)[0]\n",
    "    rounded_result = round(result, 2)\n",
    "    str=\"Your Medical Expenses could be:\"\n",
    "    str1=\"Thankyou🤗 for using our Model\"\n",
    "    return f\"{str} {rounded_result}\\n\\n{str1}\""
   ]
  },
  {
   "cell_type": "code",
   "execution_count": 5,
   "id": "d4db5b46-7373-4beb-a93c-9f613dfe74ec",
   "metadata": {},
   "outputs": [
    {
     "name": "stderr",
     "output_type": "stream",
     "text": [
      "C:\\Users\\iamad\\AppData\\Local\\Programs\\Python\\Python311\\Lib\\site-packages\\tqdm\\auto.py:21: TqdmWarning: IProgress not found. Please update jupyter and ipywidgets. See https://ipywidgets.readthedocs.io/en/stable/user_install.html\n",
      "  from .autonotebook import tqdm as notebook_tqdm\n"
     ]
    },
    {
     "name": "stdout",
     "output_type": "stream",
     "text": [
      "Running on local URL:  http://127.0.0.1:7860\n",
      "\n",
      "To create a public link, set `share=True` in `launch()`.\n"
     ]
    },
    {
     "data": {
      "text/plain": []
     },
     "execution_count": 5,
     "metadata": {},
     "output_type": "execute_result"
    },
    {
     "name": "stderr",
     "output_type": "stream",
     "text": [
      "C:\\Users\\iamad\\AppData\\Local\\Programs\\Python\\Python311\\Lib\\site-packages\\sklearn\\base.py:464: UserWarning: X does not have valid feature names, but RandomForestRegressor was fitted with feature names\n",
      "  warnings.warn(\n",
      "C:\\Users\\iamad\\AppData\\Local\\Programs\\Python\\Python311\\Lib\\site-packages\\sklearn\\base.py:464: UserWarning: X does not have valid feature names, but RandomForestRegressor was fitted with feature names\n",
      "  warnings.warn(\n",
      "C:\\Users\\iamad\\AppData\\Local\\Programs\\Python\\Python311\\Lib\\site-packages\\sklearn\\base.py:464: UserWarning: X does not have valid feature names, but RandomForestRegressor was fitted with feature names\n",
      "  warnings.warn(\n",
      "C:\\Users\\iamad\\AppData\\Local\\Programs\\Python\\Python311\\Lib\\site-packages\\sklearn\\base.py:464: UserWarning: X does not have valid feature names, but RandomForestRegressor was fitted with feature names\n",
      "  warnings.warn(\n"
     ]
    }
   ],
   "source": [
    "import gradio as gr\n",
    "\n",
    "demo = gr.Interface(\n",
    "    fn= func,\n",
    "    inputs=[\n",
    "        gr.Textbox(label=\"Enter Your Age\", placeholder=\"Enter Your Age\", elem_id=\"gender\",type='text'),\n",
    "        gr.Textbox(label=\"Enter Your Gender\", placeholder=\"Enter 0 for Male and 1 for Female\", elem_id=\"gender\",type='text'),\n",
    "        gr.Textbox(label=\"Enter Your BMI Index\", placeholder=\"Enter BMI Index Value\", elem_id=\"gender\",type='text'),\n",
    "        gr.Textbox(label=\"Number of Children Covered by Health Insurance\", placeholder=\"Enter Number of Children\", elem_id=\"gender\",type='text'),\n",
    "        gr.Textbox(label=\"Are You a Smoker?\", placeholder=\"Enter 0 for NO and 1 for YES\",elem_id=\"gender\",type='text'),\n",
    "        gr.Textbox(label=\"Enter Your Region\", placeholder=\"Enter value between 0-3\", elem_id=\"gender\",type='text'),   \n",
    "    ],\n",
    "    outputs='text',\n",
    "    theme=gr.themes.Soft(),\n",
    "    title=\"<h1 id=title-first> Welcome to HEALTHSURE <br> <span id=title-second>Predict Your Medical Cost Expenses here using a ML Model</span> </h1>\",\n",
    "    description=\"<p id=desc>◾ Please Enter the Data in following way(Important)<br>◾ Gender: <span id=desc-info> Male=0 Female=1 </span><br> ◾ Smoker:<span id=desc-info> NO=0 YES=1 </span><br>◾ Region:<span id=desc-info> Southwest=0 Southeast=1 Northwest=2 Northeast=3 </span> <br><br>**Some Examples are given at bottom You can try them by clicking on it.<br>**Enter only Numeric Value\",\n",
    "    css=\"\"\"\n",
    "    .gradio-container {background-color: #eefdec}\"\n",
    "         #gender { background-color : teal !important; }\n",
    "        #gender textarea {background-color: #ecf7fd; font-size : 15px; color : black;\n",
    "         font-weight : bold; !important;}\n",
    "        \n",
    "        #desc {font-weight : bold; color : black !important;}\n",
    "        #desc-info{font-weight:normal;}\n",
    "        h1 {text-align : center; font-size: 40px !important;}\n",
    "        #title-first {color:black;  !important;}\n",
    "        #title-second {color:green; font-size: 17px !important;}\n",
    "        #a-tag { color : white !important;}\n",
    "        \n",
    "        #a-tag:hover {text-decoration : none !important;}\n",
    "    \n",
    "    \"\"\",\n",
    "   \n",
    "    examples=[[54,\t0,\t33.63,\t1,\t0,\t2],[18,\t1,\t40.26,\t0,\t0,\t1],[54,\t1,\t23,\t3,\t0,\t0],[45,\t0,\t20.35,\t3,\t0,\t1]]\n",
    "    \n",
    ")\n",
    "\n",
    "\n",
    "demo.launch(inbrowser=True, inline=False)"
   ]
  }
 ],
 "metadata": {
  "kernelspec": {
   "display_name": "Python 3 (ipykernel)",
   "language": "python",
   "name": "python3"
  },
  "language_info": {
   "codemirror_mode": {
    "name": "ipython",
    "version": 3
   },
   "file_extension": ".py",
   "mimetype": "text/x-python",
   "name": "python",
   "nbconvert_exporter": "python",
   "pygments_lexer": "ipython3",
   "version": "3.11.4"
  }
 },
 "nbformat": 4,
 "nbformat_minor": 5
}
